{
 "cells": [
  {
   "cell_type": "code",
   "execution_count": 1,
   "metadata": {},
   "outputs": [],
   "source": [
    "import numpy as np"
   ]
  },
  {
   "cell_type": "code",
   "execution_count": 3,
   "metadata": {},
   "outputs": [
    {
     "data": {
      "text/plain": [
       "'2.1.2'"
      ]
     },
     "execution_count": 3,
     "metadata": {},
     "output_type": "execute_result"
    }
   ],
   "source": [
    "#2 Print the numpy version and the configuration \n",
    "np.__version__"
   ]
  },
  {
   "cell_type": "code",
   "execution_count": 3,
   "metadata": {},
   "outputs": [
    {
     "name": "stdout",
     "output_type": "stream",
     "text": [
      "[0. 0. 0. 0. 0. 0. 0. 0. 0. 0.]\n"
     ]
    }
   ],
   "source": [
    "#3. Create a null vector of size 10 \n",
    "arr = np.zeros(10)\n",
    "print(arr)"
   ]
  },
  {
   "cell_type": "code",
   "execution_count": 6,
   "metadata": {},
   "outputs": [
    {
     "name": "stdout",
     "output_type": "stream",
     "text": [
      "Size of the arr:  10\n",
      "Memory Size of the arr element in bytes:  8\n"
     ]
    }
   ],
   "source": [
    "#4. How to find the memory size of any array\n",
    "print(\"Size of the arr: \", arr.size)\n",
    "print(\"Memory Size of the arr element in bytes: \", arr.itemsize)"
   ]
  },
  {
   "cell_type": "code",
   "execution_count": null,
   "metadata": {},
   "outputs": [],
   "source": [
    "\n",
    "#5. How to get the documentation of the numpy add function from the command line?\n",
    " "
   ]
  },
  {
   "cell_type": "code",
   "execution_count": 10,
   "metadata": {},
   "outputs": [
    {
     "name": "stdout",
     "output_type": "stream",
     "text": [
      "[0. 0. 0. 0. 1. 0. 0. 0. 0. 0.]\n"
     ]
    }
   ],
   "source": [
    "#6. Create a null vector of size 10 but the fifth value which is 1 \n",
    "arr1 = np.eye(10)[5-1]\n",
    "print(arr1)"
   ]
  },
  {
   "cell_type": "code",
   "execution_count": 12,
   "metadata": {},
   "outputs": [
    {
     "name": "stdout",
     "output_type": "stream",
     "text": [
      "[10 11 12 13 14 15 16 17 18 19 20 21 22 23 24 25 26 27 28 29 30 31 32 33\n",
      " 34 35 36 37 38 39 40 41 42 43 44 45 46 47 48 49]\n"
     ]
    }
   ],
   "source": [
    "\n",
    "#7. Create a vector with values ranging from 10 to 49\n",
    "arr2 = np.arange(10,50)\n",
    "print(arr2)"
   ]
  },
  {
   "cell_type": "code",
   "execution_count": 17,
   "metadata": {},
   "outputs": [
    {
     "name": "stdout",
     "output_type": "stream",
     "text": [
      "Original array:  [12 13 14 15 16 17 18 19 20]\n",
      "Reverted array:  [20 19 18 17 16 15 14 13 12]\n"
     ]
    }
   ],
   "source": [
    "#8. Reverse a vector (first element becomes last)\n",
    "arr3 = np.arange(12,21)\n",
    "print(\"Original array: \", arr3)\n",
    "\n",
    "arr3 = arr3[::-1]\n",
    "print(\"Reverted array: \", arr3)"
   ]
  },
  {
   "cell_type": "code",
   "execution_count": 21,
   "metadata": {},
   "outputs": [
    {
     "name": "stdout",
     "output_type": "stream",
     "text": [
      "[[0 1 2]\n",
      " [3 4 5]\n",
      " [6 7 8]]\n"
     ]
    }
   ],
   "source": [
    "#9. Create a 3x3 matrix with values ranging from 0 to 8\n",
    "arr4 = np.arange(0,9).reshape(3,3)\n",
    "print(arr4)"
   ]
  },
  {
   "cell_type": "code",
   "execution_count": null,
   "metadata": {},
   "outputs": [],
   "source": [
    "#10. Find indices of non-zero elements from [1,2,0,0,4,0]\n"
   ]
  },
  {
   "cell_type": "code",
   "execution_count": 3,
   "metadata": {},
   "outputs": [
    {
     "name": "stdout",
     "output_type": "stream",
     "text": [
      "[[1. 0. 0.]\n",
      " [0. 1. 0.]\n",
      " [0. 0. 1.]]\n"
     ]
    }
   ],
   "source": [
    "#11. Create a 3x3 identity matrix\n",
    "arr6 = np.identity(3)\n",
    "print(arr6)"
   ]
  },
  {
   "cell_type": "code",
   "execution_count": 10,
   "metadata": {},
   "outputs": [
    {
     "name": "stdout",
     "output_type": "stream",
     "text": [
      "[[0.15817348 0.45398425 0.14768205]\n",
      " [0.91767886 0.76674351 0.19860444]\n",
      " [0.19886787 0.58018877 0.2725978 ]]\n"
     ]
    }
   ],
   "source": [
    "#12. Create 3x3 array with random values\n",
    "arr7 = np.random.random((3,3))\n",
    "print(arr7)"
   ]
  },
  {
   "cell_type": "code",
   "execution_count": 15,
   "metadata": {},
   "outputs": [
    {
     "name": "stdout",
     "output_type": "stream",
     "text": [
      "[[0.48750871 0.51192493 0.69642257 0.54596624 0.72494179 0.18503741\n",
      "  0.04702738 0.00982971 0.49740934 0.50145545]\n",
      " [0.85284846 0.65515552 0.82733335 0.01993664 0.46824704 0.94907383\n",
      "  0.12658724 0.02649592 0.35354265 0.23802217]\n",
      " [0.41506592 0.67349332 0.80913578 0.1166758  0.21203489 0.60154186\n",
      "  0.3656654  0.70781769 0.05669992 0.59367347]\n",
      " [0.616506   0.90148915 0.9153583  0.19325069 0.29337624 0.32970699\n",
      "  0.45168716 0.60040987 0.49909978 0.9630973 ]\n",
      " [0.38936022 0.99638028 0.66327257 0.63728368 0.70846135 0.84313433\n",
      "  0.92167869 0.72930709 0.24342978 0.39782774]\n",
      " [0.65467015 0.42555583 0.80865487 0.13484527 0.25769238 0.22606247\n",
      "  0.59593213 0.32420375 0.41905768 0.1650415 ]\n",
      " [0.80552853 0.19253307 0.58029528 0.25161407 0.14212824 0.15578793\n",
      "  0.83083213 0.80619815 0.68397685 0.09629372]\n",
      " [0.29255736 0.24414794 0.21695656 0.13199851 0.2861485  0.95494815\n",
      "  0.81696027 0.32824711 0.09438523 0.89677872]\n",
      " [0.2551972  0.10195325 0.68687734 0.85983638 0.76798411 0.36518624\n",
      "  0.45478003 0.38286448 0.69215541 0.89133331]\n",
      " [0.21964013 0.18327667 0.37249041 0.63517022 0.84404432 0.66508408\n",
      "  0.6973107  0.18594417 0.63554889 0.44451849]]\n",
      "0.9963802806114429\n",
      "0.009829707883306837\n"
     ]
    }
   ],
   "source": [
    "#13. Create a 10x10 array with random values and find the minimum and maximum values\n",
    "arr8 = np.random.random((10,10))\n",
    "print(arr8)\n",
    "print(np.max(arr8))\n",
    "print(np.min(arr8))"
   ]
  },
  {
   "cell_type": "code",
   "execution_count": 17,
   "metadata": {},
   "outputs": [
    {
     "name": "stdout",
     "output_type": "stream",
     "text": [
      "[0.59371652 0.96411444 0.04806874 0.60608766 0.88839463 0.61452036\n",
      " 0.18252261 0.38375377 0.03020542 0.47532226]\n",
      "0.47867064000646886\n"
     ]
    }
   ],
   "source": [
    "#14. Create a rondom vector of size 30 and find the mean value\n",
    "arr9 = np.random.random(10)\n",
    "print(arr9)\n",
    "\n",
    "print(np.mean(arr9))"
   ]
  },
  {
   "cell_type": "code",
   "execution_count": 18,
   "metadata": {},
   "outputs": [
    {
     "name": "stdout",
     "output_type": "stream",
     "text": [
      "[[1. 1. 1. 1. 1.]\n",
      " [1. 0. 0. 0. 1.]\n",
      " [1. 0. 0. 0. 1.]\n",
      " [1. 0. 0. 0. 1.]\n",
      " [1. 1. 1. 1. 1.]]\n"
     ]
    }
   ],
   "source": [
    "#15. Create a 2d array with 1 on the border and 0 inside \n",
    "arr10 = np.ones((5,5))\n",
    "\n",
    "arr10[1:-1, 1:-1] = 0\n",
    "print(arr10)"
   ]
  },
  {
   "cell_type": "code",
   "execution_count": null,
   "metadata": {},
   "outputs": [],
   "source": []
  }
 ],
 "metadata": {
  "kernelspec": {
   "display_name": "env",
   "language": "python",
   "name": "python3"
  },
  "language_info": {
   "codemirror_mode": {
    "name": "ipython",
    "version": 3
   },
   "file_extension": ".py",
   "mimetype": "text/x-python",
   "name": "python",
   "nbconvert_exporter": "python",
   "pygments_lexer": "ipython3",
   "version": "3.12.6"
  }
 },
 "nbformat": 4,
 "nbformat_minor": 2
}
