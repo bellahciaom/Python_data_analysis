{
 "cells": [
  {
   "cell_type": "code",
   "execution_count": 2,
   "metadata": {},
   "outputs": [],
   "source": [
    "import numpy as np"
   ]
  },
  {
   "cell_type": "code",
   "execution_count": null,
   "metadata": {},
   "outputs": [],
   "source": [
    "#31. How to ignore all numpy warnings (not recommended)?\n"
   ]
  },
  {
   "cell_type": "code",
   "execution_count": 3,
   "metadata": {},
   "outputs": [
    {
     "name": "stderr",
     "output_type": "stream",
     "text": [
      "C:\\Users\\User 1\\AppData\\Local\\Temp\\ipykernel_10244\\1918579400.py:2: RuntimeWarning: invalid value encountered in sqrt\n",
      "  np.sqrt(-1) == np.emath.sqrt(-1)\n"
     ]
    },
    {
     "data": {
      "text/plain": [
       "np.False_"
      ]
     },
     "execution_count": 3,
     "metadata": {},
     "output_type": "execute_result"
    }
   ],
   "source": [
    "#32. Is the following expressions true? (★☆☆)\n",
    "np.sqrt(-1) == np.emath.sqrt(-1)"
   ]
  },
  {
   "cell_type": "code",
   "execution_count": 6,
   "metadata": {},
   "outputs": [
    {
     "name": "stdout",
     "output_type": "stream",
     "text": [
      "Present Day:  2024-10-23 12:36:44.827674\n",
      "Yesterday:  2024-10-22 12:36:44.827674\n",
      "Tomorrow:  2024-10-24 12:36:44.827674\n"
     ]
    }
   ],
   "source": [
    "#33. How to get the dates of yesterday, today and tomorrow?\n",
    "from datetime import datetime, timedelta\n",
    "\n",
    "presentday = datetime.now()\n",
    "yesterday = presentday - timedelta(1)\n",
    "tomorrow = presentday + timedelta(1)\n",
    "\n",
    "print(\"Present Day: \",presentday)\n",
    "print(\"Yesterday: \",yesterday)\n",
    "print(\"Tomorrow: \", tomorrow)"
   ]
  },
  {
   "cell_type": "code",
   "execution_count": 8,
   "metadata": {},
   "outputs": [
    {
     "name": "stdout",
     "output_type": "stream",
     "text": [
      "Today:  2024-10-23\n",
      "Yesterday:  2024-10-23\n",
      "Tomorrow:  2024-10-24\n"
     ]
    }
   ],
   "source": [
    "#33. How to get the dates of yesterday, today and tomorrow?\n",
    "yesterday = np.datetime64('today', 'D')\n",
    "today = np.datetime64('today','D')\n",
    "tomorrow = np.datetime64('today', 'D') + np.timedelta64(1,'D')\n",
    "\n",
    "print(\"Today: \",today)\n",
    "print(\"Yesterday: \",yesterday)\n",
    "print(\"Tomorrow: \", tomorrow)"
   ]
  },
  {
   "cell_type": "code",
   "execution_count": 14,
   "metadata": {},
   "outputs": [
    {
     "name": "stdout",
     "output_type": "stream",
     "text": [
      "July, 2016\n",
      "['2016-03-01' '2016-03-02' '2016-03-03' '2016-03-04' '2016-03-05'\n",
      " '2016-03-06' '2016-03-07' '2016-03-08' '2016-03-09' '2016-03-10'\n",
      " '2016-03-11' '2016-03-12' '2016-03-13' '2016-03-14' '2016-03-15'\n",
      " '2016-03-16' '2016-03-17' '2016-03-18' '2016-03-19' '2016-03-20'\n",
      " '2016-03-21' '2016-03-22' '2016-03-23' '2016-03-24' '2016-03-25'\n",
      " '2016-03-26' '2016-03-27' '2016-03-28' '2016-03-29' '2016-03-30'\n",
      " '2016-03-31']\n"
     ]
    }
   ],
   "source": [
    "#34. How to get all the dates corresponding to the month of July 2016?\n",
    "print(\"July, 2016\")\n",
    "print(np.arange('2016-03','2016-04', dtype= 'datetime64[D]'))"
   ]
  },
  {
   "cell_type": "code",
   "execution_count": null,
   "metadata": {},
   "outputs": [],
   "source": [
    "#35. How to compute ((A+B)*(-A/2)) in place (without copy)?\n"
   ]
  },
  {
   "cell_type": "code",
   "execution_count": null,
   "metadata": {},
   "outputs": [],
   "source": [
    "#36. Extract the integer part of a random array of positive numbers using 4 different methods \n"
   ]
  },
  {
   "cell_type": "code",
   "execution_count": 22,
   "metadata": {},
   "outputs": [
    {
     "name": "stdout",
     "output_type": "stream",
     "text": [
      "Initial array\n",
      "[[0. 0. 0. 0. 0.]\n",
      " [0. 0. 0. 0. 0.]\n",
      " [0. 0. 0. 0. 0.]\n",
      " [0. 0. 0. 0. 0.]\n",
      " [0. 0. 0. 0. 0.]]\n",
      "Row values\n",
      "[[0. 1. 2. 3. 4.]\n",
      " [0. 1. 2. 3. 4.]\n",
      " [0. 1. 2. 3. 4.]\n",
      " [0. 1. 2. 3. 4.]\n",
      " [0. 1. 2. 3. 4.]]\n"
     ]
    }
   ],
   "source": [
    "#37. Create a 5x5 matrix with row values ranging from 0 to 4\n",
    "arr = np.zeros((5,5))\n",
    "print(\"Initial array\")\n",
    "print(arr)\n",
    "\n",
    "arr += np.arange(5)\n",
    "print(\"Row values\")\n",
    "print(arr)"
   ]
  },
  {
   "cell_type": "code",
   "execution_count": 25,
   "metadata": {},
   "outputs": [
    {
     "name": "stdout",
     "output_type": "stream",
     "text": [
      "[0 1 2 3 4 5 6 7 8 9]\n"
     ]
    }
   ],
   "source": [
    "#38. Consider a generator function that generates 10 integers and use it to build an array\n",
    "integers = (x for x in range (10))\n",
    "print(np.fromiter(integers, np.int64))"
   ]
  },
  {
   "cell_type": "code",
   "execution_count": 27,
   "metadata": {},
   "outputs": [
    {
     "name": "stdout",
     "output_type": "stream",
     "text": [
      "[0.         0.09090909 0.18181818 0.27272727 0.36363636 0.45454545\n",
      " 0.54545455 0.63636364 0.72727273 0.81818182 0.90909091 1.        ]\n"
     ]
    }
   ],
   "source": [
    "#39. Create a vector of size 10 with values ranging from 0 to 1, both excluded \n",
    "x = np.linspace(0,1,12,endpoint=True)\n",
    "print(x)"
   ]
  },
  {
   "cell_type": "code",
   "execution_count": 31,
   "metadata": {},
   "outputs": [
    {
     "name": "stdout",
     "output_type": "stream",
     "text": [
      "Original array\n",
      "[0.43588473 0.64105218 0.73985901 0.36230967 0.7138067  0.23386484\n",
      " 0.25715927 0.95825328 0.60122295 0.89219223]\n",
      "Sorted Array\n",
      "[0.23386484 0.25715927 0.36230967 0.43588473 0.60122295 0.64105218\n",
      " 0.7138067  0.73985901 0.89219223 0.95825328]\n"
     ]
    }
   ],
   "source": [
    "#40. Create a random vector of size 10 and sort it\n",
    "vector = np.random.random(10)\n",
    "print(\"Original array\")\n",
    "print(vector)\n",
    "\n",
    "vector.sort()\n",
    "print(\"Sorted Array\")\n",
    "print(vector)"
   ]
  },
  {
   "cell_type": "code",
   "execution_count": 40,
   "metadata": {},
   "outputs": [
    {
     "name": "stdout",
     "output_type": "stream",
     "text": [
      "[[1. 1. 1. 1. 1.]\n",
      " [1. 1. 1. 1. 1.]\n",
      " [1. 1. 1. 1. 1.]\n",
      " [1. 1. 1. 1. 1.]\n",
      " [1. 1. 1. 1. 1.]]\n",
      "25.0\n",
      "[[1. 1. 1. 1. 1.]\n",
      " [1. 1. 1. 1. 1.]\n",
      " [1. 1. 1. 1. 1.]\n",
      " [1. 1. 1. 1. 1.]\n",
      " [1. 1. 1. 1. 1.]]\n"
     ]
    }
   ],
   "source": [
    "#41. How to sum a small array faster than np.sum? \n",
    "arr = np.ones((5,5))\n",
    "print(arr)\n",
    "\n",
    "sum = np.sum(arr)\n",
    "print(sum)\n"
   ]
  },
  {
   "cell_type": "code",
   "execution_count": 45,
   "metadata": {},
   "outputs": [
    {
     "name": "stdout",
     "output_type": "stream",
     "text": [
      "[0.71671552 0.21213715 0.52194905 0.66448263 0.73536648 0.54940932\n",
      " 0.4191021 ]\n",
      "[0.71974334 0.61766738 0.91108089 0.00658416 0.79026243 0.26177609\n",
      " 0.035661  ]\n",
      "[False False False False False False False]\n"
     ]
    }
   ],
   "source": [
    "#42. Consider two random array A and B, check if they are equal \n",
    "A = np.random.random(7)\n",
    "B = np.random.random(7)\n",
    "\n",
    "\n",
    "print(A)\n",
    "print(B)\n",
    "print( A == B)"
   ]
  },
  {
   "cell_type": "code",
   "execution_count": null,
   "metadata": {},
   "outputs": [],
   "source": [
    "#43. Make an array immutable (read-only)\n"
   ]
  },
  {
   "cell_type": "code",
   "execution_count": null,
   "metadata": {},
   "outputs": [],
   "source": [
    "#44. Consider a random 10x2 matrix representing cartesian coordinates, convert them to polar coordinates\n"
   ]
  },
  {
   "cell_type": "code",
   "execution_count": null,
   "metadata": {},
   "outputs": [],
   "source": [
    "#45. Create random vector of size 10 and replace the maximum value by 0"
   ]
  }
 ],
 "metadata": {
  "kernelspec": {
   "display_name": "env",
   "language": "python",
   "name": "python3"
  },
  "language_info": {
   "codemirror_mode": {
    "name": "ipython",
    "version": 3
   },
   "file_extension": ".py",
   "mimetype": "text/x-python",
   "name": "python",
   "nbconvert_exporter": "python",
   "pygments_lexer": "ipython3",
   "version": "3.12.6"
  }
 },
 "nbformat": 4,
 "nbformat_minor": 2
}
