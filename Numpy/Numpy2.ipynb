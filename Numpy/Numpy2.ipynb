{
 "cells": [
  {
   "cell_type": "code",
   "execution_count": 2,
   "metadata": {},
   "outputs": [],
   "source": [
    "import numpy as np"
   ]
  },
  {
   "cell_type": "code",
   "execution_count": 5,
   "metadata": {},
   "outputs": [
    {
     "name": "stdout",
     "output_type": "stream",
     "text": [
      "Original array\n",
      "[[1. 1. 1.]\n",
      " [1. 1. 1.]\n",
      " [1. 1. 1.]]\n",
      "Modified array\n",
      "[[0. 0. 0. 0. 0.]\n",
      " [0. 1. 1. 1. 0.]\n",
      " [0. 1. 1. 1. 0.]\n",
      " [0. 1. 1. 1. 0.]\n",
      " [0. 0. 0. 0. 0.]]\n"
     ]
    }
   ],
   "source": [
    "#16. How to add a border (filled with 0's) around an existing array? \n",
    "x = np.ones((3,3))\n",
    "print(\"Original array\")\n",
    "print(x)\n",
    "\n",
    "x = np.pad(x, pad_width=1, mode= 'constant', constant_values=0)\n",
    "print(\"Modified array\")\n",
    "print(x)"
   ]
  },
  {
   "cell_type": "code",
   "execution_count": 6,
   "metadata": {},
   "outputs": [
    {
     "data": {
      "text/plain": [
       "False"
      ]
     },
     "execution_count": 6,
     "metadata": {},
     "output_type": "execute_result"
    }
   ],
   "source": [
    "#17. What is the result of the following expression? \n",
    "0 * np.nan\n",
    "np.nan == np.nan\n",
    "np.inf > np.nan\n",
    "np.nan - np.nan\n",
    "np.nan in set([np.nan])\n",
    "0.3 == 3 * 0.1"
   ]
  },
  {
   "cell_type": "code",
   "execution_count": 7,
   "metadata": {},
   "outputs": [
    {
     "name": "stdout",
     "output_type": "stream",
     "text": [
      "[[1 0 0 0]\n",
      " [0 2 0 0]\n",
      " [0 0 3 0]\n",
      " [0 0 0 4]]\n"
     ]
    }
   ],
   "source": [
    "#18. Create a 5x5 matrix with values 1,2,3,4 just below the diagonal \n",
    "x = np.diag([1,2,3,4])\n",
    "print(x)"
   ]
  },
  {
   "cell_type": "code",
   "execution_count": 11,
   "metadata": {},
   "outputs": [
    {
     "name": "stdout",
     "output_type": "stream",
     "text": [
      "Checkerboard pattern: \n",
      "[[0 1 0 1 0 1 0 1]\n",
      " [1 0 1 0 1 0 1 0]\n",
      " [0 1 0 1 0 1 0 1]\n",
      " [1 0 1 0 1 0 1 0]\n",
      " [0 1 0 1 0 1 0 1]\n",
      " [1 0 1 0 1 0 1 0]\n",
      " [0 1 0 1 0 1 0 1]\n",
      " [1 0 1 0 1 0 1 0]]\n"
     ]
    }
   ],
   "source": [
    "#19. Create a 8x8 matrix and fill it with a checkerboard pattern \n",
    "x = np.zeros((8,8), dtype=int)\n",
    "x[1::2, ::2] = 1\n",
    "x[::2, 1::2] = 1\n",
    "\n",
    "print(\"Checkerboard pattern: \")\n",
    "print(x)"
   ]
  },
  {
   "cell_type": "code",
   "execution_count": null,
   "metadata": {},
   "outputs": [],
   "source": [
    "# 20. Consider a (6,7,8) shape array, what is the index (x,y,z) of the 100th element?\n",
    "\n"
   ]
  },
  {
   "cell_type": "code",
   "execution_count": null,
   "metadata": {},
   "outputs": [],
   "source": [
    "#21. Create a checkerboard 8x8 matrix using the tile function\n"
   ]
  },
  {
   "cell_type": "code",
   "execution_count": 14,
   "metadata": {},
   "outputs": [
    {
     "name": "stdout",
     "output_type": "stream",
     "text": [
      "Initial Array\n",
      "[[0.82353468 0.8795865  0.72648099 0.34376596 0.21428722]\n",
      " [0.71259616 0.597645   0.77799308 0.01856424 0.31684927]\n",
      " [0.81198511 0.93758443 0.95302771 0.34537917 0.58050731]\n",
      " [0.72231954 0.84418214 0.19288621 0.47013375 0.5729531 ]\n",
      " [0.96860469 0.31979192 0.41793001 0.55018372 0.0533009 ]]\n",
      "Nomalized Array\n",
      "[[ 1.70591561e-01  7.13947174e-01  4.14576425e-01 -1.01465883e-02\n",
      "  -6.49843707e-01]\n",
      " [-1.03279164e+00 -5.14723877e-01  6.03870802e-01 -1.80402912e+00\n",
      "  -1.49820214e-01]\n",
      " [ 4.53099336e-02  9.66696006e-01  1.24708046e+00 -1.24774372e-03\n",
      "   1.13559890e+00]\n",
      " [-9.27319166e-01  5.59658764e-01 -1.54625443e+00  6.86925301e-01\n",
      "   1.09876967e+00]\n",
      " [ 1.74420931e+00 -1.72557807e+00 -7.19273258e-01  1.12849815e+00\n",
      "  -1.43470465e+00]]\n"
     ]
    }
   ],
   "source": [
    "#22. Normalize a 5x5 random matrix\n",
    "x = np.random.rand(5,5)\n",
    "print(\"Initial Array\")\n",
    "print(x)\n",
    "\n",
    "col_mean = np.mean(x, axis=0)\n",
    "arr_nomalized = (x - col_mean) / np.std(x, axis=0)\n",
    "print(\"Nomalized Array\")\n",
    "print(arr_nomalized)"
   ]
  },
  {
   "cell_type": "code",
   "execution_count": null,
   "metadata": {},
   "outputs": [],
   "source": [
    "#23. Create a custom dtype that describes a color as four unsigned bytes (RGBA)\n"
   ]
  },
  {
   "cell_type": "code",
   "execution_count": 24,
   "metadata": {},
   "outputs": [
    {
     "name": "stdout",
     "output_type": "stream",
     "text": [
      "First array\n",
      "[[0.56846289 0.07565985 0.34342202]\n",
      " [0.27788772 0.58646877 0.4532734 ]\n",
      " [0.23125475 0.77407691 0.9318598 ]\n",
      " [0.76855575 0.67647542 0.47267076]\n",
      " [0.94282881 0.18700841 0.70813876]]\n",
      "Second array\n",
      "[[0.77142762 0.10460345]\n",
      " [0.56754622 0.10426524]\n",
      " [0.03986665 0.99613292]]\n",
      "Product of x and y\n",
      "[[0.49515952 0.40944585]\n",
      " [0.56528889 0.54173688]\n",
      " [0.65487086 1.03315558]\n",
      " [0.99566001 0.62176936]\n",
      " [0.86169123 0.82352195]]\n"
     ]
    }
   ],
   "source": [
    "#24. Multiply a 5x3 matrix by a 3x2 matrix (real matrix product)\n",
    "x = np.random.random((5,3))\n",
    "print(\"First array\")\n",
    "print(x)\n",
    "\n",
    "y = np.random.random((3,2))\n",
    "print(\"Second array\")\n",
    "print(y)\n",
    "\n",
    "z = np.dot(x,y)\n",
    "print(\"Product of x and y\")\n",
    "print(z)"
   ]
  },
  {
   "cell_type": "code",
   "execution_count": 27,
   "metadata": {},
   "outputs": [
    {
     "name": "stdout",
     "output_type": "stream",
     "text": [
      "[ 0  1  2  3  4  5  6  7  8  9 10]\n",
      "[ 0  1  2 -3 -4 -5 -6 -7  8  9 10]\n"
     ]
    }
   ],
   "source": [
    "#25. Given a 1D array, negate all elements which are between 3 and 8, in place.\n",
    "arr = np.arange(11)\n",
    "print(arr)\n",
    "\n",
    "m = (arr>2) & (arr<8)\n",
    "arr[m] *= -1\n",
    "\n",
    "print(arr)"
   ]
  },
  {
   "cell_type": "code",
   "execution_count": 28,
   "metadata": {},
   "outputs": [
    {
     "name": "stdout",
     "output_type": "stream",
     "text": [
      "9\n",
      "10\n"
     ]
    }
   ],
   "source": [
    "#26. What is the output of the following script? (★☆☆)\n",
    "# Author: Jake VanderPlas\n",
    "\n",
    "print(sum(range(5),-1))\n",
    "from numpy import *\n",
    "print(sum(range(5),-1))"
   ]
  },
  {
   "cell_type": "code",
   "execution_count": null,
   "metadata": {},
   "outputs": [],
   "source": [
    "#27. Consider an integer vector Z, which of these expressions are legal? (★☆☆)\n",
    "Z**Z\n",
    "2 << Z >> 2\n",
    "Z <- Z\n",
    "1j*Z\n",
    "Z/1/1\n",
    "Z<Z>Z"
   ]
  },
  {
   "cell_type": "code",
   "execution_count": 29,
   "metadata": {},
   "outputs": [
    {
     "name": "stderr",
     "output_type": "stream",
     "text": [
      "C:\\Users\\User 1\\AppData\\Local\\Temp\\ipykernel_14596\\1713965767.py:2: RuntimeWarning: invalid value encountered in divide\n",
      "  np.array(0) / np.array(0)\n",
      "C:\\Users\\User 1\\AppData\\Local\\Temp\\ipykernel_14596\\1713965767.py:3: RuntimeWarning: divide by zero encountered in floor_divide\n",
      "  np.array(0) // np.array(0)\n",
      "C:\\Users\\User 1\\AppData\\Local\\Temp\\ipykernel_14596\\1713965767.py:4: RuntimeWarning: invalid value encountered in cast\n",
      "  np.array([np.nan]).astype(int).astype(float)\n"
     ]
    },
    {
     "data": {
      "text/plain": [
       "array([-9.22337204e+18])"
      ]
     },
     "execution_count": 29,
     "metadata": {},
     "output_type": "execute_result"
    }
   ],
   "source": [
    "#28. What are the result of the following expressions?\n",
    "np.array(0) / np.array(0)\n",
    "np.array(0) // np.array(0)\n",
    "np.array([np.nan]).astype(int).astype(float)"
   ]
  },
  {
   "cell_type": "code",
   "execution_count": 31,
   "metadata": {},
   "outputs": [
    {
     "name": "stdout",
     "output_type": "stream",
     "text": [
      "[-2.5 -1.8  0.3  1.5]\n",
      "[2.5 1.8 0.3 1.5]\n"
     ]
    }
   ],
   "source": [
    "#29. How to round away from zero a float array ?\n",
    "arr = np.array([-2.5, -1.8,0.3,1.5])\n",
    "print(arr)\n",
    "\n",
    "arr1 = np.abs(arr)     #use of absolute fuction\n",
    "print(arr1)"
   ]
  },
  {
   "cell_type": "code",
   "execution_count": 32,
   "metadata": {},
   "outputs": [
    {
     "name": "stdout",
     "output_type": "stream",
     "text": [
      "[1 3 4]\n"
     ]
    }
   ],
   "source": [
    "#30. How to find common values between two arrays? \n",
    "arr1 = np.array([0,1,2,3,4])\n",
    "arr2 = np.array([1,3,4])\n",
    "\n",
    "print(np.intersect1d(arr1, arr2))"
   ]
  }
 ],
 "metadata": {
  "kernelspec": {
   "display_name": "env",
   "language": "python",
   "name": "python3"
  },
  "language_info": {
   "codemirror_mode": {
    "name": "ipython",
    "version": 3
   },
   "file_extension": ".py",
   "mimetype": "text/x-python",
   "name": "python",
   "nbconvert_exporter": "python",
   "pygments_lexer": "ipython3",
   "version": "3.12.6"
  }
 },
 "nbformat": 4,
 "nbformat_minor": 2
}
